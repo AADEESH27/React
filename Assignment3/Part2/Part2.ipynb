{
 "cells": [
  {
   "cell_type": "code",
   "execution_count": 1,
   "id": "ddfabf99",
   "metadata": {},
   "outputs": [],
   "source": [
    "import pandas as pd\n",
    "import numpy as ny\n"
   ]
  },
  {
   "cell_type": "code",
   "execution_count": 2,
   "id": "dcc0bfb0",
   "metadata": {},
   "outputs": [],
   "source": [
    "data = pd.read_csv('Iris.csv')"
   ]
  },
  {
   "cell_type": "code",
   "execution_count": 3,
   "id": "9fda39f4",
   "metadata": {},
   "outputs": [
    {
     "data": {
      "text/html": [
       "<div>\n",
       "<style scoped>\n",
       "    .dataframe tbody tr th:only-of-type {\n",
       "        vertical-align: middle;\n",
       "    }\n",
       "\n",
       "    .dataframe tbody tr th {\n",
       "        vertical-align: top;\n",
       "    }\n",
       "\n",
       "    .dataframe thead th {\n",
       "        text-align: right;\n",
       "    }\n",
       "</style>\n",
       "<table border=\"1\" class=\"dataframe\">\n",
       "  <thead>\n",
       "    <tr style=\"text-align: right;\">\n",
       "      <th></th>\n",
       "      <th>Id</th>\n",
       "      <th>SepalLengthCm</th>\n",
       "      <th>SepalWidthCm</th>\n",
       "      <th>PetalLengthCm</th>\n",
       "      <th>PetalWidthCm</th>\n",
       "      <th>Species</th>\n",
       "    </tr>\n",
       "  </thead>\n",
       "  <tbody>\n",
       "    <tr>\n",
       "      <th>0</th>\n",
       "      <td>1</td>\n",
       "      <td>5.1</td>\n",
       "      <td>3.5</td>\n",
       "      <td>1.4</td>\n",
       "      <td>0.2</td>\n",
       "      <td>Iris-setosa</td>\n",
       "    </tr>\n",
       "    <tr>\n",
       "      <th>1</th>\n",
       "      <td>2</td>\n",
       "      <td>4.9</td>\n",
       "      <td>3.0</td>\n",
       "      <td>1.4</td>\n",
       "      <td>0.2</td>\n",
       "      <td>Iris-setosa</td>\n",
       "    </tr>\n",
       "    <tr>\n",
       "      <th>2</th>\n",
       "      <td>3</td>\n",
       "      <td>4.7</td>\n",
       "      <td>3.2</td>\n",
       "      <td>1.3</td>\n",
       "      <td>0.2</td>\n",
       "      <td>Iris-setosa</td>\n",
       "    </tr>\n",
       "    <tr>\n",
       "      <th>3</th>\n",
       "      <td>4</td>\n",
       "      <td>4.6</td>\n",
       "      <td>3.1</td>\n",
       "      <td>1.5</td>\n",
       "      <td>0.2</td>\n",
       "      <td>Iris-setosa</td>\n",
       "    </tr>\n",
       "    <tr>\n",
       "      <th>4</th>\n",
       "      <td>5</td>\n",
       "      <td>5.0</td>\n",
       "      <td>3.6</td>\n",
       "      <td>1.4</td>\n",
       "      <td>0.2</td>\n",
       "      <td>Iris-setosa</td>\n",
       "    </tr>\n",
       "  </tbody>\n",
       "</table>\n",
       "</div>"
      ],
      "text/plain": [
       "   Id  SepalLengthCm  SepalWidthCm  PetalLengthCm  PetalWidthCm      Species\n",
       "0   1            5.1           3.5            1.4           0.2  Iris-setosa\n",
       "1   2            4.9           3.0            1.4           0.2  Iris-setosa\n",
       "2   3            4.7           3.2            1.3           0.2  Iris-setosa\n",
       "3   4            4.6           3.1            1.5           0.2  Iris-setosa\n",
       "4   5            5.0           3.6            1.4           0.2  Iris-setosa"
      ]
     },
     "execution_count": 3,
     "metadata": {},
     "output_type": "execute_result"
    }
   ],
   "source": [
    "data.head()"
   ]
  },
  {
   "cell_type": "code",
   "execution_count": 4,
   "id": "0b07fd5e",
   "metadata": {},
   "outputs": [
    {
     "data": {
      "text/plain": [
       "Id                 int64\n",
       "SepalLengthCm    float64\n",
       "SepalWidthCm     float64\n",
       "PetalLengthCm    float64\n",
       "PetalWidthCm     float64\n",
       "Species           object\n",
       "dtype: object"
      ]
     },
     "execution_count": 4,
     "metadata": {},
     "output_type": "execute_result"
    }
   ],
   "source": [
    "data.dtypes"
   ]
  },
  {
   "cell_type": "code",
   "execution_count": 21,
   "id": "85f60999",
   "metadata": {},
   "outputs": [],
   "source": [
    "def details(s):\n",
    "    d1 = data;\n",
    "    for i in d1.index:\n",
    "        if(d1['Species'][i]!=s):\n",
    "            d1 =d1.drop(i,axis=0)\n",
    "\n",
    "    print(s,\" SepalLength Details\")\n",
    "    print(\"--------------------------------------------------------------------------\")\n",
    "    print(\"Mean SepalLength in cm is : \",d1['SepalLengthCm'].mean())\n",
    "    print(\"Median SepalLength in cm is : \",d1['SepalLengthCm'].median())\n",
    "    print(\"Std SepalLength in cm is : \",d1['SepalLengthCm'].std())\n",
    "    print(\"--------------------------------------------------------------------------\")\n",
    "\n",
    "    print(s,\" SepalWidth Details\")\n",
    "    print(\"Mean SepalWidth in cm is : \",d1['SepalWidthCm'].mean())\n",
    "    print(\"Median SepalWidth in cm is : \",d1['SepalWidthCm'].median())\n",
    "    print(\"Std SepalWidth in cm is : \",d1['SepalWidthCm'].std())\n",
    "    print(\"--------------------------------------------------------------------------\")\n",
    "\n",
    "    print(s,\" PetalLength Details\")\n",
    "    print(\"Mean PetalLength in cm is : \",d1['PetalLengthCm'].mean())\n",
    "    print(\"Median PetalLength in cm is : \",d1['PetalLengthCm'].median())\n",
    "    print(\"Std PetalLength in cm is : \",d1['PetalLengthCm'].std())\n",
    "    print(\"--------------------------------------------------------------------------\")\n",
    "\n",
    "    print(s,\" PetalWidth Details\")\n",
    "    print(\"Mean PetalWidth in cm is : \",d1['PetalWidthCm'].mean())\n",
    "    print(\"Median PetalWidth in cm is : \",d1['PetalWidthCm'].median())\n",
    "    print(\"Std PetalWidth in cm is : \",d1['PetalWidthCm'].std())\n",
    "    print(\"--------------------------------------------------------------------------\")\n",
    "    \n",
    "\n"
   ]
  },
  {
   "cell_type": "code",
   "execution_count": 22,
   "id": "3b9d4b81",
   "metadata": {},
   "outputs": [
    {
     "name": "stdout",
     "output_type": "stream",
     "text": [
      "Iris-setosa  SepalLength Details\n",
      "--------------------------------------------------------------------------\n",
      "Mean SepalLength in cm is :  5.006\n",
      "Median SepalLength in cm is :  5.0\n",
      "Std SepalLength in cm is :  0.35248968721345136\n",
      "--------------------------------------------------------------------------\n",
      "Iris-setosa  SepalWidth Details\n",
      "Mean SepalWidth in cm is :  3.418\n",
      "Median SepalWidth in cm is :  3.4\n",
      "Std SepalWidth in cm is :  0.38102439795469095\n",
      "--------------------------------------------------------------------------\n",
      "Iris-setosa  PetalLength Details\n",
      "Mean PetalLength in cm is :  1.464\n",
      "Median PetalLength in cm is :  1.5\n",
      "Std PetalLength in cm is :  0.17351115943644546\n",
      "--------------------------------------------------------------------------\n",
      "Iris-setosa  PetalWidth Details\n",
      "Mean PetalWidth in cm is :  0.244\n",
      "Median PetalWidth in cm is :  0.2\n",
      "Std PetalWidth in cm is :  0.1072095030816784\n",
      "--------------------------------------------------------------------------\n"
     ]
    }
   ],
   "source": [
    "details(\"Iris-setosa\")"
   ]
  },
  {
   "cell_type": "code",
   "execution_count": 23,
   "id": "408ae263",
   "metadata": {},
   "outputs": [
    {
     "name": "stdout",
     "output_type": "stream",
     "text": [
      "Iris-versicolor  SepalLength Details\n",
      "--------------------------------------------------------------------------\n",
      "Mean SepalLength in cm is :  5.936\n",
      "Median SepalLength in cm is :  5.9\n",
      "Std SepalLength in cm is :  0.5161711470638634\n",
      "--------------------------------------------------------------------------\n",
      "Iris-versicolor  SepalWidth Details\n",
      "Mean SepalWidth in cm is :  2.7700000000000005\n",
      "Median SepalWidth in cm is :  2.8\n",
      "Std SepalWidth in cm is :  0.3137983233784114\n",
      "--------------------------------------------------------------------------\n",
      "Iris-versicolor  PetalLength Details\n",
      "Mean PetalLength in cm is :  4.26\n",
      "Median PetalLength in cm is :  4.35\n",
      "Std PetalLength in cm is :  0.46991097723995795\n",
      "--------------------------------------------------------------------------\n",
      "Iris-versicolor  PetalWidth Details\n",
      "Mean PetalWidth in cm is :  1.3259999999999998\n",
      "Median PetalWidth in cm is :  1.3\n",
      "Std PetalWidth in cm is :  0.19775268000454405\n",
      "--------------------------------------------------------------------------\n"
     ]
    }
   ],
   "source": [
    "details(\"Iris-versicolor\")"
   ]
  },
  {
   "cell_type": "code",
   "execution_count": 24,
   "id": "19105069",
   "metadata": {},
   "outputs": [
    {
     "name": "stdout",
     "output_type": "stream",
     "text": [
      "Iris-virginica  SepalLength Details\n",
      "--------------------------------------------------------------------------\n",
      "Mean SepalLength in cm is :  6.587999999999998\n",
      "Median SepalLength in cm is :  6.5\n",
      "Std SepalLength in cm is :  0.6358795932744322\n",
      "--------------------------------------------------------------------------\n",
      "Iris-virginica  SepalWidth Details\n",
      "Mean SepalWidth in cm is :  2.974\n",
      "Median SepalWidth in cm is :  3.0\n",
      "Std SepalWidth in cm is :  0.32249663817263746\n",
      "--------------------------------------------------------------------------\n",
      "Iris-virginica  PetalLength Details\n",
      "Mean PetalLength in cm is :  5.5520000000000005\n",
      "Median PetalLength in cm is :  5.55\n",
      "Std PetalLength in cm is :  0.5518946956639834\n",
      "--------------------------------------------------------------------------\n",
      "Iris-virginica  PetalWidth Details\n",
      "Mean PetalWidth in cm is :  2.0260000000000002\n",
      "Median PetalWidth in cm is :  2.0\n",
      "Std PetalWidth in cm is :  0.2746500556366674\n",
      "--------------------------------------------------------------------------\n"
     ]
    }
   ],
   "source": [
    "details(\"Iris-virginica\")"
   ]
  },
  {
   "cell_type": "code",
   "execution_count": null,
   "id": "c031bddb",
   "metadata": {},
   "outputs": [],
   "source": []
  }
 ],
 "metadata": {
  "kernelspec": {
   "display_name": "Python 3 (ipykernel)",
   "language": "python",
   "name": "python3"
  },
  "language_info": {
   "codemirror_mode": {
    "name": "ipython",
    "version": 3
   },
   "file_extension": ".py",
   "mimetype": "text/x-python",
   "name": "python",
   "nbconvert_exporter": "python",
   "pygments_lexer": "ipython3",
   "version": "3.8.10"
  }
 },
 "nbformat": 4,
 "nbformat_minor": 5
}
